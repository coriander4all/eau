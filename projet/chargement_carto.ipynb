{
 "cells": [
  {
   "cell_type": "code",
   "execution_count": 1,
   "id": "b2009870-3afd-4997-bf29-8f74d286aa9a",
   "metadata": {},
   "outputs": [],
   "source": [
    "import pandas as pd\n",
    "import geopandas as gpd\n",
    "import shapely.geometry as geom\n",
    "import os\n"
   ]
  },
  {
   "cell_type": "code",
   "execution_count": 2,
   "id": "ef6792a8-aae9-4652-9263-88ea4563499b",
   "metadata": {},
   "outputs": [],
   "source": [
    "f=\"donnees_physicochimie.csv.zst\"\n",
    "pc_sample = pd.read_csv(f,nrows=1)\n",
    "pc_list_cols = pc_sample.columns\n",
    "pc_list_cat = pc_list_cols[pc_list_cols.str.startswith((\n",
    "    'Lb','Nom','Mnemo',\n",
    "    'Cd','Sym','Com'))]\n",
    "\n",
    "pc_dict_cat = {col: 'category' for col in pc_list_cat}"
   ]
  },
  {
   "cell_type": "code",
   "execution_count": 3,
   "id": "ed8a9d69",
   "metadata": {},
   "outputs": [
    {
     "data": {
      "text/plain": [
       "{'CdStationMesureEauxSurface': 'category',\n",
       " 'LbStationMesureEauxSurface': 'category',\n",
       " 'CdSupport': 'category',\n",
       " 'LbSupport': 'category',\n",
       " 'CdFractionAnalysee': 'category',\n",
       " 'LbFractionAnalysee': 'category',\n",
       " 'CdPrelevement': 'category',\n",
       " 'CdParametre': 'category',\n",
       " 'LbLongParamètre': 'category',\n",
       " 'CdUniteMesure': 'category',\n",
       " 'SymUniteMesure': 'category',\n",
       " 'CdRqAna': 'category',\n",
       " 'MnemoRqAna': 'category',\n",
       " 'CdInsituAna': 'category',\n",
       " 'LbInsituAna': 'category',\n",
       " 'CdDifficulteAna': 'category',\n",
       " 'MnemoDifficulteAna': 'category',\n",
       " 'CdMetFractionnement': 'category',\n",
       " 'NomMetFractionnement': 'category',\n",
       " 'CdMethode': 'category',\n",
       " 'NomMethode': 'category',\n",
       " 'CdMethodeExtraction': 'category',\n",
       " 'NomMethodeExtraction': 'category',\n",
       " 'CdAccreAna': 'category',\n",
       " 'MnemoAccredAna': 'category',\n",
       " 'CdStatutAna': 'category',\n",
       " 'MnemoStatutAna': 'category',\n",
       " 'CdQualAna': 'category',\n",
       " 'LbQualAna': 'category',\n",
       " 'CommentairesAna': 'category',\n",
       " 'ComResultatAna': 'category',\n",
       " 'CdRdd': 'category',\n",
       " 'NomRdd': 'category',\n",
       " 'CdProducteur': 'category',\n",
       " 'NomProducteur': 'category',\n",
       " 'CdPreleveur': 'category',\n",
       " 'NomPreleveur': 'category',\n",
       " 'CdLaboratoire': 'category',\n",
       " 'NomLaboratoire': 'category'}"
      ]
     },
     "execution_count": 3,
     "metadata": {},
     "output_type": "execute_result"
    }
   ],
   "source": [
    "pc_dict_cat"
   ]
  },
  {
   "cell_type": "code",
   "execution_count": 4,
   "id": "d6e246bc-e972-4542-8238-755c2ff7c892",
   "metadata": {},
   "outputs": [
    {
     "ename": "",
     "evalue": "",
     "output_type": "error",
     "traceback": [
      "\u001b[1;31mThe Kernel crashed while executing code in the current cell or a previous cell. \n",
      "\u001b[1;31mPlease review the code in the cell(s) to identify a possible cause of the failure. \n",
      "\u001b[1;31mClick <a href='https://aka.ms/vscodeJupyterKernelCrash'>here</a> for more info. \n",
      "\u001b[1;31mView Jupyter <a href='command:jupyter.viewOutput'>log</a> for further details."
     ]
    }
   ],
   "source": [
    "df_pc = pd.read_csv(\n",
    "        f,\n",
    "        sep=',',\n",
    "        engine='c',\n",
    "        escapechar='\\\\',\n",
    "        dtype=pc_dict_cat,\n",
    "        parse_dates=[7],\n",
    "        iterator=False)"
   ]
  },
  {
   "cell_type": "code",
   "execution_count": null,
   "id": "0ab85c72",
   "metadata": {},
   "outputs": [],
   "source": [
    "df_pc"
   ]
  },
  {
   "cell_type": "code",
   "execution_count": 5,
   "id": "20dda461-3dea-4611-9a23-1cd555e0e2e8",
   "metadata": {},
   "outputs": [],
   "source": [
    "df_stations = pd.read_csv(\"stations_hb.csv.zst\", sep=';', escapechar='\\\\')\n",
    "df_hb = pd.read_csv(\"donnees_hydrobio.csv.zst\", sep=',')"
   ]
  },
  {
   "cell_type": "code",
   "execution_count": 6,
   "id": "ffca0c5f-83ef-44ff-8f7e-debe8ddd5126",
   "metadata": {},
   "outputs": [],
   "source": [
    "crs_lambert = 'PROJCS[\"RGF_1993_Lambert_93\",GEOGCS[\"GCS_RGF_1993\",DATUM[\"D_RGF_1993\",SPHEROID[\"GRS_1980\",6378137.0,298.257222101]],PRIMEM[\"Greenwich\",0.0],UNIT[\"Degree\",0.0174532925199433]],PROJECTION[\"Lambert_Conformal_Conic\"],PARAMETER[\"False_Easting\",700000.0],PARAMETER[\"False_Northing\",6600000.0],PARAMETER[\"Central_Meridian\",3.0],PARAMETER[\"Standard_Parallel_1\",49.0],PARAMETER[\"Standard_Parallel_2\",44.0],PARAMETER[\"Latitude_Of_Origin\",46.5],UNIT[\"Meter\",1.0]]'\n",
    "x_col = 'CoordXStationMesureEauxSurface'\n",
    "y_col = 'CoordYStationMesureEauxSurface'\n",
    "\n",
    "carto_i2m2 = gpd.GeoDataFrame(df_stations,crs=crs_lambert ,\n",
    "                        geometry = gpd.GeoSeries(df_stations.agg(lambda x:geom.Point(x.loc[x_col],x.loc[y_col])  ,axis=1)))"
   ]
  },
  {
   "cell_type": "code",
   "execution_count": 7,
   "id": "faee35f5-9813-437d-a9fe-bc81f7bcf7b3",
   "metadata": {},
   "outputs": [],
   "source": [
    "her = gpd.read_file(\"Hydroecoregion1-shp/Hydroecoregion1.shp\")\n"
   ]
  },
  {
   "cell_type": "code",
   "execution_count": null,
   "id": "db29e963",
   "metadata": {},
   "outputs": [],
   "source": [
    "her.explore()"
   ]
  },
  {
   "cell_type": "code",
   "execution_count": 8,
   "id": "b4cbbd2a-8c98-4099-83e8-7f94383a0ca0",
   "metadata": {},
   "outputs": [],
   "source": [
    "station_her=carto_i2m2.sjoin(her.to_crs(crs_lambert),predicate='within').to_crs(crs_lambert)\n"
   ]
  },
  {
   "cell_type": "code",
   "execution_count": null,
   "id": "f44ef706-771b-4c87-a210-cc0bcd5d6799",
   "metadata": {},
   "outputs": [],
   "source": [
    "station_her.head()"
   ]
  },
  {
   "cell_type": "code",
   "execution_count": null,
   "id": "acc5be5d",
   "metadata": {},
   "outputs": [],
   "source": [
    "station_her.explore()"
   ]
  },
  {
   "cell_type": "code",
   "execution_count": null,
   "id": "85a5950b-d85b-4f75-a25e-f6cdd5181624",
   "metadata": {},
   "outputs": [],
   "source": [
    "pd.set_option('display.max_columns', None)\n",
    "pd.set_option('display.max_seq_items', None)\n",
    "pd.set_option('display.max_colwidth', None)\n",
    "df_pc['LbLongParamètre'].unique()\n"
   ]
  },
  {
   "cell_type": "code",
   "execution_count": null,
   "id": "64dfab16-8a4b-4017-93a1-dc3672d18b59",
   "metadata": {},
   "outputs": [],
   "source": [
    "station_her.head(10)"
   ]
  },
  {
   "cell_type": "code",
   "execution_count": null,
   "id": "71281d00-8bf2-467e-8cb8-4d5b80e960fd",
   "metadata": {},
   "outputs": [],
   "source": [
    "df_hb.head(10)"
   ]
  },
  {
   "cell_type": "code",
   "execution_count": null,
   "id": "7ba9f544-36ed-4038-a858-cb22741c631f",
   "metadata": {},
   "outputs": [],
   "source": [
    "\n",
    "df_pc['LbLongParamètre'].unique()"
   ]
  },
  {
   "cell_type": "code",
   "execution_count": null,
   "id": "c69f2b04-5f63-47f5-90c5-797296b0a2b5",
   "metadata": {},
   "outputs": [],
   "source": [
    "df_pc['LbLongParamètre'] = df_pc['LbLongParamètre'].astype('object')\n",
    "df_pc['LbLongParamètre'].unique()\n"
   ]
  },
  {
   "cell_type": "code",
   "execution_count": 15,
   "id": "4d9dcc8c-d30a-4f95-90f4-28bade69af78",
   "metadata": {},
   "outputs": [],
   "source": [
    "uniq=df_pc.groupby('LbLongParamètre')['CdPrelevement'].nunique()\n"
   ]
  },
  {
   "cell_type": "code",
   "execution_count": 16,
   "id": "fe8f0e8a-d8cd-4bcc-bc4b-1da95887a362",
   "metadata": {},
   "outputs": [],
   "source": [
    "percent=(uniq/(df_pc['CdPrelevement'].nunique())).sort_values()"
   ]
  },
  {
   "cell_type": "code",
   "execution_count": null,
   "id": "dcf4cc6a-efaf-41db-b72b-545e53bc30f5",
   "metadata": {},
   "outputs": [],
   "source": [
    "percent"
   ]
  }
 ],
 "metadata": {
  "kernelspec": {
   "display_name": "Python 3",
   "language": "python",
   "name": "python3"
  },
  "language_info": {
   "codemirror_mode": {
    "name": "ipython",
    "version": 3
   },
   "file_extension": ".py",
   "mimetype": "text/x-python",
   "name": "python",
   "nbconvert_exporter": "python",
   "pygments_lexer": "ipython3",
   "version": "3.10.12"
  }
 },
 "nbformat": 4,
 "nbformat_minor": 5
}
